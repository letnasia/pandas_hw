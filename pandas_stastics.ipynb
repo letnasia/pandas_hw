{
 "cells": [
  {
   "cell_type": "code",
   "execution_count": 1,
   "id": "initial_id",
   "metadata": {
    "collapsed": true,
    "ExecuteTime": {
     "end_time": "2024-02-25T13:44:05.779083Z",
     "start_time": "2024-02-25T13:43:18.194302Z"
    }
   },
   "outputs": [],
   "source": [
    "import pandas as pd"
   ]
  },
  {
   "cell_type": "markdown",
   "source": [
    "## 1. Load the dataset into a Pandas DataFrame.\n"
   ],
   "metadata": {
    "collapsed": false
   },
   "id": "6d569f6df54a025f"
  },
  {
   "cell_type": "code",
   "outputs": [],
   "source": [
    "df = pd.read_csv('reviews.csv')"
   ],
   "metadata": {
    "collapsed": false,
    "ExecuteTime": {
     "end_time": "2024-02-25T13:44:05.926918Z",
     "start_time": "2024-02-25T13:44:05.770974Z"
    }
   },
   "id": "7bc9965f07e2f76d",
   "execution_count": 2
  },
  {
   "cell_type": "markdown",
   "source": [
    "## 2. Set the 'id' column as the index and display the first 10 rows of the dataset.\n"
   ],
   "metadata": {
    "collapsed": false
   },
   "id": "ff6abacc9a4c0c08"
  },
  {
   "cell_type": "code",
   "outputs": [
    {
     "data": {
      "text/plain": "       restaurant_name reviewer_name  \\\nid                                     \n0       Грибова Колиба         Марта   \n1     Стильна Кавʼярня         Устим   \n2       Грибова Колиба     Валентина   \n3       Мʼясна Пекарня      Богуслав   \n4   Апетитна Пирогівня        Лариса   \n5      Пікантна Колиба         Орися   \n6       Відома Таверна        Леонід   \n7      Мʼясна Шашлична         Аарон   \n8    Грибова Закусочна        Опанас   \n9    Грибова Закусочна         Макар   \n\n                                          review_text  rating date_of_visit  \\\nid                                                                            \n0   Офіціантка Повільно Обслуговувала велике меню ...       3    2022-05-30   \n1   Могло Бути Краще чудово велика сирна тарілка н...       4    2022-09-06   \n2        Чудово велике меню приємні ціни піца смачна.       5    2024-01-09   \n3   Не Сподобалось чудово гарна територія довго че...       2    2023-05-13   \n4   Офіціантка Повільно Обслуговувала принесли пер...       1    2024-01-21   \n5   Було Смачно не сподобалось офіціантка повільно...       4    2022-07-01   \n6   Піца Смачна комфортно класне обслуговування по...       1    2022-12-27   \n7   Довго Чекали На Замовлення приємні ціни найкра...       3    2022-03-11   \n8   Раджу Відвідати атмосфера чудова чудово вражен...       1    2023-04-14   \n9   Класне Обслуговування могло бути краще кухня н...       1    2023-02-26   \n\n      location  \nid              \n0     Миргород  \n1    Долинська  \n2       Бібрка  \n3   Снігурівка  \n4    Корюківка  \n5        Львів  \n6        Луцьк  \n7    Костопіль  \n8      Прилуки  \n9     Кагарлик  ",
      "text/html": "<div>\n<style scoped>\n    .dataframe tbody tr th:only-of-type {\n        vertical-align: middle;\n    }\n\n    .dataframe tbody tr th {\n        vertical-align: top;\n    }\n\n    .dataframe thead th {\n        text-align: right;\n    }\n</style>\n<table border=\"1\" class=\"dataframe\">\n  <thead>\n    <tr style=\"text-align: right;\">\n      <th></th>\n      <th>restaurant_name</th>\n      <th>reviewer_name</th>\n      <th>review_text</th>\n      <th>rating</th>\n      <th>date_of_visit</th>\n      <th>location</th>\n    </tr>\n    <tr>\n      <th>id</th>\n      <th></th>\n      <th></th>\n      <th></th>\n      <th></th>\n      <th></th>\n      <th></th>\n    </tr>\n  </thead>\n  <tbody>\n    <tr>\n      <th>0</th>\n      <td>Грибова Колиба</td>\n      <td>Марта</td>\n      <td>Офіціантка Повільно Обслуговувала велике меню ...</td>\n      <td>3</td>\n      <td>2022-05-30</td>\n      <td>Миргород</td>\n    </tr>\n    <tr>\n      <th>1</th>\n      <td>Стильна Кавʼярня</td>\n      <td>Устим</td>\n      <td>Могло Бути Краще чудово велика сирна тарілка н...</td>\n      <td>4</td>\n      <td>2022-09-06</td>\n      <td>Долинська</td>\n    </tr>\n    <tr>\n      <th>2</th>\n      <td>Грибова Колиба</td>\n      <td>Валентина</td>\n      <td>Чудово велике меню приємні ціни піца смачна.</td>\n      <td>5</td>\n      <td>2024-01-09</td>\n      <td>Бібрка</td>\n    </tr>\n    <tr>\n      <th>3</th>\n      <td>Мʼясна Пекарня</td>\n      <td>Богуслав</td>\n      <td>Не Сподобалось чудово гарна територія довго че...</td>\n      <td>2</td>\n      <td>2023-05-13</td>\n      <td>Снігурівка</td>\n    </tr>\n    <tr>\n      <th>4</th>\n      <td>Апетитна Пирогівня</td>\n      <td>Лариса</td>\n      <td>Офіціантка Повільно Обслуговувала принесли пер...</td>\n      <td>1</td>\n      <td>2024-01-21</td>\n      <td>Корюківка</td>\n    </tr>\n    <tr>\n      <th>5</th>\n      <td>Пікантна Колиба</td>\n      <td>Орися</td>\n      <td>Було Смачно не сподобалось офіціантка повільно...</td>\n      <td>4</td>\n      <td>2022-07-01</td>\n      <td>Львів</td>\n    </tr>\n    <tr>\n      <th>6</th>\n      <td>Відома Таверна</td>\n      <td>Леонід</td>\n      <td>Піца Смачна комфортно класне обслуговування по...</td>\n      <td>1</td>\n      <td>2022-12-27</td>\n      <td>Луцьк</td>\n    </tr>\n    <tr>\n      <th>7</th>\n      <td>Мʼясна Шашлична</td>\n      <td>Аарон</td>\n      <td>Довго Чекали На Замовлення приємні ціни найкра...</td>\n      <td>3</td>\n      <td>2022-03-11</td>\n      <td>Костопіль</td>\n    </tr>\n    <tr>\n      <th>8</th>\n      <td>Грибова Закусочна</td>\n      <td>Опанас</td>\n      <td>Раджу Відвідати атмосфера чудова чудово вражен...</td>\n      <td>1</td>\n      <td>2023-04-14</td>\n      <td>Прилуки</td>\n    </tr>\n    <tr>\n      <th>9</th>\n      <td>Грибова Закусочна</td>\n      <td>Макар</td>\n      <td>Класне Обслуговування могло бути краще кухня н...</td>\n      <td>1</td>\n      <td>2023-02-26</td>\n      <td>Кагарлик</td>\n    </tr>\n  </tbody>\n</table>\n</div>"
     },
     "execution_count": 3,
     "metadata": {},
     "output_type": "execute_result"
    }
   ],
   "source": [
    "df.set_index('id', inplace=True)\n",
    "df.head(10)"
   ],
   "metadata": {
    "collapsed": false,
    "ExecuteTime": {
     "end_time": "2024-02-25T13:44:06.200125Z",
     "start_time": "2024-02-25T13:44:05.797625Z"
    }
   },
   "id": "56810cffde6175b4",
   "execution_count": 3
  },
  {
   "cell_type": "markdown",
   "source": [
    "## 3. Print the summary statistics for the numerical columns."
   ],
   "metadata": {
    "collapsed": false
   },
   "id": "2b2bdac7aa6e6551"
  },
  {
   "cell_type": "code",
   "outputs": [
    {
     "data": {
      "text/plain": "           rating\ncount  500.000000\nmean     2.890000\nstd      1.393479\nmin      1.000000\n25%      2.000000\n50%      3.000000\n75%      4.000000\nmax      5.000000",
      "text/html": "<div>\n<style scoped>\n    .dataframe tbody tr th:only-of-type {\n        vertical-align: middle;\n    }\n\n    .dataframe tbody tr th {\n        vertical-align: top;\n    }\n\n    .dataframe thead th {\n        text-align: right;\n    }\n</style>\n<table border=\"1\" class=\"dataframe\">\n  <thead>\n    <tr style=\"text-align: right;\">\n      <th></th>\n      <th>rating</th>\n    </tr>\n  </thead>\n  <tbody>\n    <tr>\n      <th>count</th>\n      <td>500.000000</td>\n    </tr>\n    <tr>\n      <th>mean</th>\n      <td>2.890000</td>\n    </tr>\n    <tr>\n      <th>std</th>\n      <td>1.393479</td>\n    </tr>\n    <tr>\n      <th>min</th>\n      <td>1.000000</td>\n    </tr>\n    <tr>\n      <th>25%</th>\n      <td>2.000000</td>\n    </tr>\n    <tr>\n      <th>50%</th>\n      <td>3.000000</td>\n    </tr>\n    <tr>\n      <th>75%</th>\n      <td>4.000000</td>\n    </tr>\n    <tr>\n      <th>max</th>\n      <td>5.000000</td>\n    </tr>\n  </tbody>\n</table>\n</div>"
     },
     "execution_count": 4,
     "metadata": {},
     "output_type": "execute_result"
    }
   ],
   "source": [
    "df[['rating']].describe()"
   ],
   "metadata": {
    "collapsed": false,
    "ExecuteTime": {
     "end_time": "2024-02-25T13:44:06.283583Z",
     "start_time": "2024-02-25T13:44:05.839172Z"
    }
   },
   "id": "3a772fbe059d885",
   "execution_count": 4
  },
  {
   "cell_type": "markdown",
   "source": [
    "## 4.1. Skip data with missing columns.\n"
   ],
   "metadata": {
    "collapsed": false
   },
   "id": "b4ea04d2fd5e5a14"
  },
  {
   "cell_type": "code",
   "outputs": [],
   "source": [
    "df.dropna(inplace=True)"
   ],
   "metadata": {
    "collapsed": false,
    "ExecuteTime": {
     "end_time": "2024-02-25T13:44:06.364864Z",
     "start_time": "2024-02-25T13:44:05.860695Z"
    }
   },
   "id": "76c01e74116152a2",
   "execution_count": 5
  },
  {
   "cell_type": "markdown",
   "source": [
    "## 4.2. Skip data with invalid rating value (it should be within the 1 to 5 range)"
   ],
   "metadata": {
    "collapsed": false
   },
   "id": "dafd1e47c9331956"
  },
  {
   "cell_type": "code",
   "outputs": [],
   "source": [
    "df = df[(df['rating'] >= 1) & (df['rating'] <= 5)]"
   ],
   "metadata": {
    "collapsed": false,
    "ExecuteTime": {
     "end_time": "2024-02-25T13:44:06.455415Z",
     "start_time": "2024-02-25T13:44:05.875814Z"
    }
   },
   "id": "3d0fdff6b5b615b7",
   "execution_count": 6
  },
  {
   "cell_type": "markdown",
   "source": [
    "## 5. Create a new column \"Review Length\" that represents the number of words in the review text."
   ],
   "metadata": {
    "collapsed": false
   },
   "id": "f68630917bc84d9e"
  },
  {
   "cell_type": "code",
   "outputs": [
    {
     "data": {
      "text/plain": "       restaurant_name reviewer_name  \\\nid                                     \n0       Грибова Колиба         Марта   \n1     Стильна Кавʼярня         Устим   \n2       Грибова Колиба     Валентина   \n3       Мʼясна Пекарня      Богуслав   \n4   Апетитна Пирогівня        Лариса   \n\n                                          review_text  rating date_of_visit  \\\nid                                                                            \n0   Офіціантка Повільно Обслуговувала велике меню ...       3    2022-05-30   \n1   Могло Бути Краще чудово велика сирна тарілка н...       4    2022-09-06   \n2        Чудово велике меню приємні ціни піца смачна.       5    2024-01-09   \n3   Не Сподобалось чудово гарна територія довго че...       2    2023-05-13   \n4   Офіціантка Повільно Обслуговувала принесли пер...       1    2024-01-21   \n\n      location  review_length  month_of_visit  \nid                                             \n0     Миргород             19               5  \n1    Долинська             27               9  \n2       Бібрка              7               1  \n3   Снігурівка             11               5  \n4    Корюківка             18               1  ",
      "text/html": "<div>\n<style scoped>\n    .dataframe tbody tr th:only-of-type {\n        vertical-align: middle;\n    }\n\n    .dataframe tbody tr th {\n        vertical-align: top;\n    }\n\n    .dataframe thead th {\n        text-align: right;\n    }\n</style>\n<table border=\"1\" class=\"dataframe\">\n  <thead>\n    <tr style=\"text-align: right;\">\n      <th></th>\n      <th>restaurant_name</th>\n      <th>reviewer_name</th>\n      <th>review_text</th>\n      <th>rating</th>\n      <th>date_of_visit</th>\n      <th>location</th>\n      <th>review_length</th>\n      <th>month_of_visit</th>\n    </tr>\n    <tr>\n      <th>id</th>\n      <th></th>\n      <th></th>\n      <th></th>\n      <th></th>\n      <th></th>\n      <th></th>\n      <th></th>\n      <th></th>\n    </tr>\n  </thead>\n  <tbody>\n    <tr>\n      <th>0</th>\n      <td>Грибова Колиба</td>\n      <td>Марта</td>\n      <td>Офіціантка Повільно Обслуговувала велике меню ...</td>\n      <td>3</td>\n      <td>2022-05-30</td>\n      <td>Миргород</td>\n      <td>19</td>\n      <td>5</td>\n    </tr>\n    <tr>\n      <th>1</th>\n      <td>Стильна Кавʼярня</td>\n      <td>Устим</td>\n      <td>Могло Бути Краще чудово велика сирна тарілка н...</td>\n      <td>4</td>\n      <td>2022-09-06</td>\n      <td>Долинська</td>\n      <td>27</td>\n      <td>9</td>\n    </tr>\n    <tr>\n      <th>2</th>\n      <td>Грибова Колиба</td>\n      <td>Валентина</td>\n      <td>Чудово велике меню приємні ціни піца смачна.</td>\n      <td>5</td>\n      <td>2024-01-09</td>\n      <td>Бібрка</td>\n      <td>7</td>\n      <td>1</td>\n    </tr>\n    <tr>\n      <th>3</th>\n      <td>Мʼясна Пекарня</td>\n      <td>Богуслав</td>\n      <td>Не Сподобалось чудово гарна територія довго че...</td>\n      <td>2</td>\n      <td>2023-05-13</td>\n      <td>Снігурівка</td>\n      <td>11</td>\n      <td>5</td>\n    </tr>\n    <tr>\n      <th>4</th>\n      <td>Апетитна Пирогівня</td>\n      <td>Лариса</td>\n      <td>Офіціантка Повільно Обслуговувала принесли пер...</td>\n      <td>1</td>\n      <td>2024-01-21</td>\n      <td>Корюківка</td>\n      <td>18</td>\n      <td>1</td>\n    </tr>\n  </tbody>\n</table>\n</div>"
     },
     "execution_count": 16,
     "metadata": {},
     "output_type": "execute_result"
    }
   ],
   "source": [
    "df['review_length'] = df['review_text'].str.split().apply(len)\n",
    "df.head()"
   ],
   "metadata": {
    "collapsed": false,
    "ExecuteTime": {
     "end_time": "2024-02-25T13:48:20.604210Z",
     "start_time": "2024-02-25T13:48:20.372291Z"
    }
   },
   "id": "917ee8e658d80d54",
   "execution_count": 16
  },
  {
   "cell_type": "markdown",
   "source": [
    "## 6. Find the average rating for each restaurant and display the top 10 highest-rated restaurants."
   ],
   "metadata": {
    "collapsed": false
   },
   "id": "763764697e992766"
  },
  {
   "cell_type": "code",
   "outputs": [
    {
     "data": {
      "text/plain": "restaurant_name\nМʼясна Шашлична        3.400000\nНайкраща Кухня         3.277778\nАроматна Шампанерія    3.214286\nСтильна Кавʼярня       3.208333\nСтильна Канапка        3.190476\nМʼясна Пекарня         3.133333\nМаленька Шампанерія    3.133333\nЧудова Кухня           3.105263\nВишукана Піцерія       3.083333\nСмачна Забігайлівка    3.083333\nName: rating, dtype: float64"
     },
     "execution_count": 8,
     "metadata": {},
     "output_type": "execute_result"
    }
   ],
   "source": [
    "df.groupby('restaurant_name')['rating'].mean().nlargest(n=10)"
   ],
   "metadata": {
    "collapsed": false,
    "ExecuteTime": {
     "end_time": "2024-02-25T13:44:06.975142Z",
     "start_time": "2024-02-25T13:44:05.917311Z"
    }
   },
   "id": "b64c8b25f4cfc65d",
   "execution_count": 8
  },
  {
   "cell_type": "markdown",
   "source": [
    "## 7. Identify the 5 most frequent reviewers and the average rating they give."
   ],
   "metadata": {
    "collapsed": false
   },
   "id": "f5aae2785dd1f6d6"
  },
  {
   "cell_type": "markdown",
   "source": [],
   "metadata": {
    "collapsed": false
   },
   "id": "a6814d1e715ca316"
  },
  {
   "cell_type": "code",
   "outputs": [
    {
     "data": {
      "text/plain": "               avg_rating  count_rating\nreviewer_name                          \nДавид            3.000000             9\nМарія            2.500000             8\nЮстим            2.875000             8\nАврелій          3.285714             7\nБогданна         2.714286             7",
      "text/html": "<div>\n<style scoped>\n    .dataframe tbody tr th:only-of-type {\n        vertical-align: middle;\n    }\n\n    .dataframe tbody tr th {\n        vertical-align: top;\n    }\n\n    .dataframe thead th {\n        text-align: right;\n    }\n</style>\n<table border=\"1\" class=\"dataframe\">\n  <thead>\n    <tr style=\"text-align: right;\">\n      <th></th>\n      <th>avg_rating</th>\n      <th>count_rating</th>\n    </tr>\n    <tr>\n      <th>reviewer_name</th>\n      <th></th>\n      <th></th>\n    </tr>\n  </thead>\n  <tbody>\n    <tr>\n      <th>Давид</th>\n      <td>3.000000</td>\n      <td>9</td>\n    </tr>\n    <tr>\n      <th>Марія</th>\n      <td>2.500000</td>\n      <td>8</td>\n    </tr>\n    <tr>\n      <th>Юстим</th>\n      <td>2.875000</td>\n      <td>8</td>\n    </tr>\n    <tr>\n      <th>Аврелій</th>\n      <td>3.285714</td>\n      <td>7</td>\n    </tr>\n    <tr>\n      <th>Богданна</th>\n      <td>2.714286</td>\n      <td>7</td>\n    </tr>\n  </tbody>\n</table>\n</div>"
     },
     "execution_count": 9,
     "metadata": {},
     "output_type": "execute_result"
    }
   ],
   "source": [
    "df.groupby('reviewer_name').agg(avg_rating=('rating', 'mean'), count_rating=('rating', 'count')).nlargest(5, 'count_rating')\n"
   ],
   "metadata": {
    "collapsed": false,
    "ExecuteTime": {
     "end_time": "2024-02-25T13:44:07.126400Z",
     "start_time": "2024-02-25T13:44:05.952449Z"
    }
   },
   "id": "e9973b00a27a78d5",
   "execution_count": 9
  },
  {
   "cell_type": "markdown",
   "source": [
    "## 8. Calculate the average rating per month."
   ],
   "metadata": {
    "collapsed": false
   },
   "id": "289a930d249e0027"
  },
  {
   "cell_type": "code",
   "outputs": [
    {
     "data": {
      "text/plain": "month_of_visit\n1     2.734694\n2     2.897436\n3     2.574468\n4     2.777778\n5     3.117647\n6     2.966667\n7     3.175000\n8     2.900000\n9     2.914894\n10    2.977273\n11    2.853659\n12    2.805556\nName: rating, dtype: float64"
     },
     "execution_count": 10,
     "metadata": {},
     "output_type": "execute_result"
    }
   ],
   "source": [
    "df['month_of_visit'] = pd.to_datetime(df['date_of_visit']).dt.month\n",
    "df.groupby('month_of_visit')['rating'].mean()"
   ],
   "metadata": {
    "collapsed": false,
    "ExecuteTime": {
     "end_time": "2024-02-25T13:44:07.365954Z",
     "start_time": "2024-02-25T13:44:06.001723Z"
    }
   },
   "id": "4c52c83f828f4f92",
   "execution_count": 10
  },
  {
   "cell_type": "markdown",
   "source": [
    "## 9. Find the restaurant with the most reviews.\n"
   ],
   "metadata": {
    "collapsed": false
   },
   "id": "e748244e6e6507d1"
  },
  {
   "cell_type": "code",
   "outputs": [
    {
     "data": {
      "text/plain": "restaurant_name\nВідома Таверна    25\nName: rating, dtype: int64"
     },
     "execution_count": 11,
     "metadata": {},
     "output_type": "execute_result"
    }
   ],
   "source": [
    "df.groupby('restaurant_name')['rating'].count().nlargest(n=1)\n"
   ],
   "metadata": {
    "collapsed": false,
    "ExecuteTime": {
     "end_time": "2024-02-25T13:44:07.600330Z",
     "start_time": "2024-02-25T13:44:06.020971Z"
    }
   },
   "id": "950e857fe9409103",
   "execution_count": 11
  },
  {
   "cell_type": "markdown",
   "source": [
    "## 10. Determine the city with the highest average rating."
   ],
   "metadata": {
    "collapsed": false
   },
   "id": "a48c303880516302"
  },
  {
   "cell_type": "code",
   "outputs": [
    {
     "data": {
      "text/plain": "location\nАлмазна    5.0\nName: rating, dtype: float64"
     },
     "execution_count": 12,
     "metadata": {},
     "output_type": "execute_result"
    }
   ],
   "source": [
    "df.groupby('location')['rating'].mean().nlargest(n=1)"
   ],
   "metadata": {
    "collapsed": false,
    "ExecuteTime": {
     "end_time": "2024-02-25T13:44:07.828448Z",
     "start_time": "2024-02-25T13:44:06.069726Z"
    }
   },
   "id": "9366ff6c6fd87900",
   "execution_count": 12
  },
  {
   "cell_type": "markdown",
   "source": [
    "## 11. Visualization\n",
    "### 11.1. Plot the distribution of ratings across all reviews."
   ],
   "metadata": {
    "collapsed": false
   },
   "id": "62829f73c68bf90a"
  },
  {
   "cell_type": "code",
   "outputs": [
    {
     "data": {
      "text/plain": "<Axes: xlabel='date_of_visit', ylabel='rating'>"
     },
     "execution_count": 18,
     "metadata": {},
     "output_type": "execute_result"
    },
    {
     "data": {
      "text/plain": "<Figure size 640x480 with 1 Axes>",
      "image/png": "[encoded data removed]"
     },
     "metadata": {},
     "output_type": "display_data"
    }
   ],
   "source": [
    "df.plot(kind = 'scatter', x = 'date_of_visit', y = 'rating', yticks=[1, 2, 3, 4, 5])"
   ],
   "metadata": {
    "collapsed": false,
    "ExecuteTime": {
     "end_time": "2024-02-25T13:51:31.004831Z",
     "start_time": "2024-02-25T13:51:26.706579Z"
    }
   },
   "id": "d5cb5adeac5fe4fd",
   "execution_count": 18
  },
  {
   "cell_type": "markdown",
   "source": [
    "### 11.2. Create a time series plot showing the average rating per month."
   ],
   "metadata": {
    "collapsed": false
   },
   "id": "ca5ec3cbfe64c540"
  },
  {
   "cell_type": "code",
   "outputs": [
    {
     "data": {
      "text/plain": "<Axes: xlabel='month_of_visit'>"
     },
     "execution_count": 14,
     "metadata": {},
     "output_type": "execute_result"
    },
    {
     "data": {
      "text/plain": "<Figure size 640x480 with 1 Axes>",
      "image/png": "[encoded data removed]"
     },
     "metadata": {},
     "output_type": "display_data"
    }
   ],
   "source": [
    "df.groupby('month_of_visit')['rating'].mean().plot()"
   ],
   "metadata": {
    "collapsed": false,
    "ExecuteTime": {
     "end_time": "2024-02-25T13:44:22.132050Z",
     "start_time": "2024-02-25T13:44:21.428712Z"
    }
   },
   "id": "a891b3ab2d22133f",
   "execution_count": 14
  },
  {
   "cell_type": "markdown",
   "source": [
    "## 12. Save the cleaned and manipulated DataFrame to a new CSV file."
   ],
   "metadata": {
    "collapsed": false
   },
   "id": "47201f7a020db04"
  },
  {
   "cell_type": "code",
   "outputs": [],
   "source": [
    "df.to_csv('clean_reviews.csv')"
   ],
   "metadata": {
    "collapsed": false,
    "ExecuteTime": {
     "end_time": "2024-02-25T13:44:22.376065Z",
     "start_time": "2024-02-25T13:44:22.029920Z"
    }
   },
   "id": "a99ea050b8466d30",
   "execution_count": 15
  }
 ],
 "metadata": {
  "kernelspec": {
   "display_name": "Python 3",
   "language": "python",
   "name": "python3"
  },
  "language_info": {
   "codemirror_mode": {
    "name": "ipython",
    "version": 2
   },
   "file_extension": ".py",
   "mimetype": "text/x-python",
   "name": "python",
   "nbconvert_exporter": "python",
   "pygments_lexer": "ipython2",
   "version": "2.7.6"
  }
 },
 "nbformat": 4,
 "nbformat_minor": 5
}
